{
  "nbformat": 4,
  "nbformat_minor": 0,
  "metadata": {
    "colab": {
      "provenance": [],
      "collapsed_sections": []
    },
    "kernelspec": {
      "name": "python3",
      "display_name": "Python 3"
    },
    "language_info": {
      "name": "python"
    }
  },
  "cells": [
    {
      "cell_type": "code",
      "source": [
        "class MYLDA():\n",
        "  import numpy as np\n",
        "  def __computeWeights(self,data,b):\n",
        "      #(zT.z)^^-1.zT.b\n",
        "      return (np.linalg.inv((data.T).dot(data)).dot(data.T)).dot(b) \n",
        "  \n",
        "  def __merge(self,x):\n",
        "    #add new column values at end of X\n",
        "    return np.column_stack((x,np.ones(x.shape[0])))\n",
        "\n",
        "  def Z(self,x,y):\n",
        "    data=self.__merge(x)\n",
        "    Zs=[]\n",
        "    for c in np.unique(y):#one vs all # for loop on each class to compute its equation vs The rest of classes\n",
        "      curZ=data.copy()\n",
        "      for i,vec in enumerate(curZ):\n",
        "        if(y[i]!=c):#if label not equal the main class label\n",
        "          curZ[i]=np.multiply(vec,-1)# feature vector and merged one multiply on -1\n",
        "        else:\n",
        "          curZ[i,-1]=1\n",
        "      Zs.append(curZ)\n",
        "    return Zs      \n",
        "\n",
        "  def fit(self,x,y):\n",
        "    b=np.ones(x.shape[0])\n",
        "    Zs=self.Z(x,y)\n",
        "    self.weights=[]\n",
        "    self.weights.append([self.__computeWeights(i,b) for i in Zs])\n",
        "    self.weights=np.array(self.weights)\n",
        "\n",
        "  def predict(self,x):\n",
        "    x=self.__merge(x)\n",
        "    result=self.weights.dot(x.T)\n",
        "    return np.squeeze(result)\n",
        "\n",
        "  def score(self,x,y):\n",
        "      result=self.predict(x)\n",
        "      labels=self.__Wrongclassification(result,y)\n",
        "      acc=self.__accuracy(labels)\n",
        "      print(\"Accuracy \",acc)\n",
        "      print(labels)\n",
        "      return labels\n",
        "\n",
        "  def __accuracy(self,labels):\n",
        "    sum=0\n",
        "    for i in labels:\n",
        "      if(i!=\"wrong\" and i!=\"New classification\"and i!=\"Undetermined\"):\n",
        "        sum+=1\n",
        "    return sum/len(labels) \n",
        "\n",
        "  def __Wrongclassification(self,result,y):\n",
        "      classification=[]\n",
        "      for i in range(0,result.shape[1]):\n",
        "        flag=0\n",
        "        label=-1\n",
        "        for j in range(0,result.shape[0]):\n",
        "          if(result[j,i]>0):\n",
        "            flag+=1\n",
        "            label=j\n",
        "        if(flag==1 and y[i]==label):\n",
        "          classification.append(label)\n",
        "        elif(flag==1 and y[i]==label):\n",
        "          classification.append(\"wrong\")\n",
        "        elif(flag==0):\n",
        "          classification.append(\"New classification\")     \n",
        "        else:\n",
        "          classification.append(\"Undetermined\") \n",
        "      return classification        \n",
        "  "
      ],
      "metadata": {
        "id": "ShZ8yxKPUkno"
      },
      "execution_count": 1,
      "outputs": []
    },
    {
      "cell_type": "code",
      "source": [
        "from sklearn import datasets\n",
        "import numpy as np\n",
        "import sklearn\n",
        "from sklearn.discriminant_analysis import LinearDiscriminantAnalysis as LDA\n",
        "from sklearn.model_selection import train_test_split\n",
        "iris = datasets.load_iris()\n",
        "X_train, X_test, y_train, y_test = train_test_split(iris.data, iris.target, test_size=0.15, random_state=10)"
      ],
      "metadata": {
        "id": "LeGiJLAWz9E0"
      },
      "execution_count": 2,
      "outputs": []
    },
    {
      "cell_type": "code",
      "source": [
        "lda = LDA()\n",
        "lda.fit(X_train, y_train)\n",
        "lda.score(X_test,y_test)"
      ],
      "metadata": {
        "id": "QsKj_RNn0j0Q",
        "outputId": "84b2b0c7-906d-4f5e-b34d-7b91d001eb6c",
        "colab": {
          "base_uri": "https://localhost:8080/"
        }
      },
      "execution_count": 3,
      "outputs": [
        {
          "output_type": "execute_result",
          "data": {
            "text/plain": [
              "1.0"
            ]
          },
          "metadata": {},
          "execution_count": 3
        }
      ]
    },
    {
      "cell_type": "code",
      "source": [
        "lda = MYLDA()\n",
        "lda.fit(X_train, y_train)\n",
        "y_labels=lda.score(X_test,y_test)"
      ],
      "metadata": {
        "colab": {
          "base_uri": "https://localhost:8080/"
        },
        "id": "hdvnWKCp0GM8",
        "outputId": "d83095b7-12fc-4c81-dfb6-ecfa688727b1"
      },
      "execution_count": 4,
      "outputs": [
        {
          "output_type": "stream",
          "name": "stdout",
          "text": [
            "Accuracy  0.8695652173913043\n",
            "[1, 2, 0, 'New classification', 0, 1, 1, 1, 0, 1, 'Undetermined', 2, 1, 0, 0, 2, 'Undetermined', 0, 0, 0, 2, 2, 2]\n"
          ]
        }
      ]
    },
    {
      "cell_type": "code",
      "source": [
        "from sklearn.decomposition import PCA\n",
        "pca = PCA(n_components = 2)\n",
        "X_train = pca.fit_transform(X_train)\n",
        "X_pca = pca.transform(X_test)"
      ],
      "metadata": {
        "id": "VOMkQRYFmfK6"
      },
      "execution_count": 5,
      "outputs": []
    },
    {
      "cell_type": "code",
      "source": [
        "import matplotlib.pyplot as plt\n",
        "import numpy as np\n",
        "\n",
        "indices = np.array([X_pca[i,:] for i, x in enumerate(y_labels) if x == 'Undetermined'])\n",
        "x = indices[:,0]\n",
        "y = indices[:,1]\n",
        "plt.scatter(x, y, color = 'hotpink')\n",
        "\n",
        "indices = np.array([X_pca[i,:] for i, x in enumerate(y_labels) if x == 'New classification'])\n",
        "x = indices[:,0]\n",
        "y = indices[:,1]\n",
        "plt.scatter(x, y, color = '#88c999')\n",
        "\n",
        "indices = np.array([X_pca[i,:] for i, x in enumerate(y_labels) if x == 0])\n",
        "x = indices[:,0]\n",
        "y = indices[:,1]\n",
        "plt.scatter(x, y, color = 'red')\n",
        "\n",
        "indices = np.array([X_pca[i,:] for i, x in enumerate(y_labels) if x == 1])\n",
        "x = indices[:,0]\n",
        "y = indices[:,1]\n",
        "plt.scatter(x, y, color = 'blue')\n",
        "\n",
        "indices = np.array([X_pca[i,:] for i, x in enumerate(y_labels) if x == 2])\n",
        "x = indices[:,0]\n",
        "y = indices[:,1]\n",
        "plt.scatter(x, y, color = 'yellow')\n",
        "\n",
        "plt.show()"
      ],
      "metadata": {
        "colab": {
          "base_uri": "https://localhost:8080/",
          "height": 265
        },
        "id": "f88UgA52o5L5",
        "outputId": "25c44495-b50c-4f24-ad72-9925bbb0f94e"
      },
      "execution_count": 6,
      "outputs": [
        {
          "output_type": "display_data",
          "data": {
            "text/plain": [
              "<Figure size 432x288 with 1 Axes>"
            ],
            "image/png": "[encoded data removed]"
          },
          "metadata": {
            "needs_background": "light"
          }
        }
      ]
    }
  ]
}